{
 "cells": [
  {
   "cell_type": "code",
   "execution_count": 155,
   "id": "c2ef8ae6-a054-4a64-9c97-4b373bb8130f",
   "metadata": {},
   "outputs": [],
   "source": [
    "import pandas as pd\n",
    "import numpy as np\n",
    "import seaborn as sns\n",
    "import matplotlib.pyplot as plt"
   ]
  },
  {
   "cell_type": "code",
   "execution_count": 156,
   "id": "490aba43-4a88-45be-8a5e-f6999fa762a6",
   "metadata": {},
   "outputs": [],
   "source": [
    "from sklearn.model_selection import train_test_split\n",
    "from sklearn.linear_model import LinearRegression\n",
    "from sklearn.metrics import mean_squared_error"
   ]
  },
  {
   "cell_type": "code",
   "execution_count": 157,
   "id": "0f6e21eb-05b6-40bb-9e3d-df89a902201b",
   "metadata": {},
   "outputs": [],
   "source": [
    "combined_df = []\n",
    "\n",
    "for i in range(10):\n",
    "    file_path = f'../data/processed_data/audio_features/audio_features-{i*1000}-{(i+1)*1000 - 1}.csv'\n",
    "    df = pd.read_csv(file_path)\n",
    "    combined_df.append(df)\n",
    "\n",
    "combined_df = pd.concat(combined_df, ignore_index=True)"
   ]
  },
  {
   "cell_type": "code",
   "execution_count": 162,
   "id": "2dd628ce-76b6-47a8-a0e2-bf07c3237991",
   "metadata": {},
   "outputs": [
    {
     "name": "stdout",
     "output_type": "stream",
     "text": [
      "Mean Squared Error: 0.011906878624813079\n",
      "Predicted Energy: [0.90448591]\n"
     ]
    },
    {
     "name": "stderr",
     "output_type": "stream",
     "text": [
      "/Library/Frameworks/Python.framework/Versions/3.9/lib/python3.9/site-packages/sklearn/base.py:493: FutureWarning: The feature names should match those that were passed during fit. Starting version 1.2, an error will be raised.\n",
      "Feature names must be in the same order as they were in fit.\n",
      "\n",
      "  warnings.warn(message, FutureWarning)\n"
     ]
    }
   ],
   "source": [
    "X = combined_df.drop(['energy'], axis=1)  # All audio features except 'energy'\n",
    "y = combined_df['energy']\n",
    "\n",
    "# Split the data into training and testing sets\n",
    "X_train, X_test, y_train, y_test = train_test_split(X, y, test_size=0.2, random_state=42)\n",
    "\n",
    "# Choose a regression model (e.g., Linear Regression)\n",
    "model = LinearRegression()\n",
    "\n",
    "# Train the model on the training data\n",
    "model.fit(X_train, y_train)\n",
    "\n",
    "# Model Evaluation\n",
    "y_pred = model.predict(X_test)\n",
    "mse = mean_squared_error(y_test, y_pred)\n",
    "print('Mean Squared Error:', mse)\n",
    "\n",
    "# Prediction\n",
    "new_danceability = [[0.8]]  # Replace with your new 'danceability' value(s) for prediction\n",
    "new_data = pd.DataFrame({'danceability': [0.8]})  # Create a DataFrame with new values\n",
    "new_data = pd.DataFrame(new_danceability, columns=X.columns)\n",
    "\n",
    "# Add other audio features with default values (e.g., 0) to the prediction DataFrame\n",
    "for feature in X.columns:\n",
    "    if feature != 'danceability':\n",
    "        new_data[feature] = 0\n",
    "\n",
    "predicted_energy = model.predict(new_data)\n",
    "print('Predicted Energy:', predicted_energy)"
   ]
  },
  {
   "cell_type": "code",
   "execution_count": null,
   "id": "7532e3f2-4446-49b8-9b94-cf2fa502cdd5",
   "metadata": {},
   "outputs": [],
   "source": []
  }
 ],
 "metadata": {
  "kernelspec": {
   "display_name": "Python 3 (ipykernel)",
   "language": "python",
   "name": "python3"
  },
  "language_info": {
   "codemirror_mode": {
    "name": "ipython",
    "version": 3
   },
   "file_extension": ".py",
   "mimetype": "text/x-python",
   "name": "python",
   "nbconvert_exporter": "python",
   "pygments_lexer": "ipython3",
   "version": "3.9.12"
  }
 },
 "nbformat": 4,
 "nbformat_minor": 5
}
