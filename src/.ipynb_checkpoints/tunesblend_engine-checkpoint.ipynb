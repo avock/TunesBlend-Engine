{
 "cells": [
  {
   "cell_type": "code",
   "execution_count": 1,
   "id": "c2ef8ae6-a054-4a64-9c97-4b373bb8130f",
   "metadata": {},
   "outputs": [
    {
     "data": {
      "text/html": [
       "<style>.container { width:90% !important; }</style>"
      ],
      "text/plain": [
       "<IPython.core.display.HTML object>"
      ]
     },
     "metadata": {},
     "output_type": "display_data"
    }
   ],
   "source": [
    "import pandas as pd\n",
    "import numpy as np\n",
    "import seaborn as sns\n",
    "import matplotlib.pyplot as plt\n",
    "import seaborn as sns\n",
    "\n",
    "from sklearn.model_selection import train_test_split\n",
    "from sklearn.linear_model import LinearRegression\n",
    "from sklearn.metrics import mean_squared_error\n",
    "\n",
    "from sklearn.feature_extraction.text import TfidfVectorizer\n",
    "import nltk\n",
    "from wordcloud import WordCloud\n",
    "import re\n",
    "\n",
    "\"Libraries to help with jupyter notebook usage\"\n",
    "# Increases jupyter notebook display width\n",
    "from IPython.display import display, HTML\n",
    "display(HTML(\"<style>.container { width:90% !important; }</style>\"))\n",
    "\n",
    "from IPython.display import Image # Helps display images in notebook"
   ]
  },
  {
   "cell_type": "code",
   "execution_count": 2,
   "id": "b348ba9f",
   "metadata": {},
   "outputs": [],
   "source": [
    "\"Import python util functions\"\n",
    "import jupyternotebook_utils as jp"
   ]
  },
  {
   "cell_type": "markdown",
   "id": "c1982b9d",
   "metadata": {},
   "source": [
    "## Data Import\n",
    "Import files containing information regarding tracks from over 10,000 playlists in terms of audio featuers and various details such as global popularity and release date"
   ]
  },
  {
   "cell_type": "markdown",
   "id": "5e807abc",
   "metadata": {},
   "source": [
    "#### Dataset from million playlist dataset"
   ]
  },
  {
   "cell_type": "code",
   "execution_count": 3,
   "id": "e2ca9974",
   "metadata": {},
   "outputs": [],
   "source": [
    "audio_features_df = []\n",
    "track_details_df = []\n",
    "\n",
    "for i in range(10):\n",
    "    audio_features_file_path = f'../data/processed_data/audio_features/audio_features-{i*1000}-{(i+1)*1000 - 1}.csv'\n",
    "    df = pd.read_csv(audio_features_file_path)\n",
    "    audio_features_df.append(df)\n",
    "    \n",
    "    track_details_file_path = f'../data/processed_data/playlist_details/details-{i*1000}-{(i+1)*1000 - 1}.csv'\n",
    "    df = pd.read_csv(track_details_file_path)\n",
    "    track_details_df.append(df)\n",
    "\n",
    "audio_features_df = pd.concat(audio_features_df, ignore_index=True)\n",
    "track_details_df = pd.concat(track_details_df, ignore_index=True)\n",
    "\n",
    "original_track_details_df = track_details_df.copy()\n",
    "original_audio_features_df = audio_features_df.copy()"
   ]
  },
  {
   "cell_type": "markdown",
   "id": "905e4e38",
   "metadata": {},
   "source": [
    "#### Dataset of tracks from every genre and their audio features"
   ]
  },
  {
   "cell_type": "code",
   "execution_count": 4,
   "id": "dca4218b",
   "metadata": {},
   "outputs": [],
   "source": [
    "audio_features_by_genre_file_path = f'../data/processed_data/genres/audio_features_by_genre.csv'\n",
    "audio_features_by_genre_df = pd.read_csv(audio_features_by_genre_file_path)\n",
    "\n",
    "clustered_audio_features_by_genre_file_path = f'../data/processed_data/genres/audio_features_by_genre.csv'"
   ]
  },
  {
   "cell_type": "markdown",
   "id": "290f6d68",
   "metadata": {},
   "source": [
    "## 2. Data Pre-processing\n",
    "1. Remove irrelevant columns such as key and duration\n",
    "2. Remove outliers for each audio features in `audio_features_df`\n",
    "3. Combining `audio_features_df` and `track_details_df` for easy data manipulation\n",
    "4. Perform One-Hot-Encoding (OHE) for `track_popularity` and `release_date` in `track_details_df`"
   ]
  },
  {
   "cell_type": "markdown",
   "id": "382570d5",
   "metadata": {},
   "source": [
    "## Utility for Pre-processing\n",
    "Declaration of constants and functions to be used for data pre-processing"
   ]
  },
  {
   "cell_type": "code",
   "execution_count": null,
   "id": "5bc264b1",
   "metadata": {},
   "outputs": [],
   "source": [
    "before_graph_audio_features_df = audio_features_df.copy()\n",
    "after_graph_audio_features_df = audio_features_df.copy()\n",
    "\n",
    "audio_features_list = 1\n",
    "\n",
    "num_bins = 250\n",
    "\n",
    "graph_height = 4\n",
    "graph_width = 4\n",
    "\n",
    "audio_features_list = ['danceability', 'energy', 'loudness', 'speechiness', 'acousticness', 'liveness', 'valence']\n",
    "\n",
    "def plot_graph(plot_title, graph_height, graph_width, graph_features_list = audio_features_list, graph_df = before_graph_audio_features_df):\n",
    "    graph_height = graph_height\n",
    "    graph_width = graph_width\n",
    "    graph_count = len(graph_features_list)\n",
    "\n",
    "    fig, axes = plt.subplots(1, graph_count, figsize=(graph_width * graph_count, graph_height))\n",
    "    fig.suptitle(plot_title, fontsize=16)\n",
    "    \n",
    "    for i, audio_feature in enumerate(graph_features_list, start = 0):\n",
    "        ax = axes[i]\n",
    "        ax.hist(graph_df[audio_feature], bins=num_bins, range=(0, 1), edgecolor='none')\n",
    "        ax.set_title(f'{str(audio_feature).capitalize()}')\n",
    "        ax.set_xlabel(f'{audio_feature.capitalize()}')\n",
    "        ax.set_ylabel('Frequency')\n",
    "\n",
    "    plt.tight_layout(rect=[0, 0.03, 1, 0.95])\n",
    "    plt.show()"
   ]
  },
  {
   "cell_type": "markdown",
   "id": "4eb45723",
   "metadata": {},
   "source": [
    "### 2.1 Removing Irrelevant Columns\n",
    "Columns such as `key` and `duration` do not provide useful insights to the analysis, hence they are removed.\n",
    "\n",
    "For now, `instrumentalness` seems to have a large number of null values, it will be dropped too to prevent messing up the recommendation system."
   ]
  },
  {
   "cell_type": "code",
   "execution_count": null,
   "id": "80d5f5cb",
   "metadata": {},
   "outputs": [],
   "source": [
    "audio_features_df = original_audio_features_df.drop(columns=['key', 'duration_ms', 'instrumentalness'])"
   ]
  },
  {
   "cell_type": "markdown",
   "id": "57ac94f4",
   "metadata": {},
   "source": [
    "### 2.2 Removing outliers from audio features\n",
    "Despite the official Spotify API Documentation mentioning that most audio features are within the range of 0 to 1, a simple `track_details_df.describe()` shows its definitely not the case. To better visualize each audio feature's distribution, let's plot them out:"
   ]
  },
  {
   "cell_type": "code",
   "execution_count": null,
   "id": "cea94352",
   "metadata": {
    "scrolled": false
   },
   "outputs": [],
   "source": [
    "graph_title = 'Frequency Histograms of Audio Features'\n",
    "plot_graph(graph_title, graph_height, graph_width, audio_features_list)"
   ]
  },
  {
   "cell_type": "markdown",
   "id": "c002c000",
   "metadata": {},
   "source": [
    "It's immediately noticeable that only audio features `Danceability`, `Energy`, and `Valence` are \"normal\" (excuse the pun). The distribution of `Loudness` is also noticeably messy due to its range of [-60, 0], let's fix that using min-max normalization. "
   ]
  },
  {
   "cell_type": "code",
   "execution_count": null,
   "id": "86d857fe",
   "metadata": {},
   "outputs": [],
   "source": [
    "max_loudness = 0\n",
    "min_loudness = -60\n",
    "after_graph_audio_features_df['loudness'] = audio_features_df['loudness']\n",
    "after_graph_audio_features_df['normalized_loudness'] = (audio_features_df['loudness'] - min_loudness) / (max_loudness - min_loudness)\n",
    "\n",
    "features_list = ['loudness', 'normalized_loudness']\n",
    "\n",
    "graph_title = 'Frequency Histograms of Loudness Before vs After Normalization'\n",
    "\n",
    "plot_graph(graph_title, graph_height, graph_width, features_list, after_graph_audio_features_df)\n",
    "\n",
    "before_graph_audio_features_df['loudness'] = after_graph_audio_features_df['normalized_loudness']\n",
    "after_graph_audio_features_df = before_graph_audio_features_df.copy()"
   ]
  },
  {
   "cell_type": "markdown",
   "id": "9b27f41c",
   "metadata": {},
   "source": [
    "Another quite obvious issue is with the `instrumentalness` column, which for some reason contains a large amount of null values.\n",
    "\n",
    "\n",
    "NOTE: since instrumentalness seems to have large amounts of null values, it will be dropped for now."
   ]
  },
  {
   "cell_type": "code",
   "execution_count": null,
   "id": "937609c5",
   "metadata": {},
   "outputs": [],
   "source": [
    "# graph_count = 2\n",
    "\n",
    "# fig, axes = plt.subplots(1, graph_count, figsize=(graph_width * graph_count, graph_height))\n",
    "# fig.suptitle('Frequency Histograms of Instrumentalness Before vs After Normalization', fontsize=16)\n",
    "\n",
    "# instrumentalness = audio_features_df['instrumentalness']\n",
    "# filtered_instrumentalness = instrumentalness[instrumentalness > 0].apply(lambda x : x * 10000)\n",
    "\n",
    "# columns_list = [instrumentalness, filtered_instrumentalness]\n",
    "\n",
    "# for i, columns in enumerate(columns_list):\n",
    "#     ax = axes[i]\n",
    "\n",
    "#     ax.hist(columns, bins=num_bins, range=(0, 1), edgecolor='none')\n",
    "#     ax.set_xlabel('Instrumentalness')\n",
    "#     ax.set_ylabel('Frequency')\n",
    "    \n",
    "# plt.tight_layout(rect=[0, 0.03, 1, 0.95])\n",
    "# plt.show()"
   ]
  },
  {
   "cell_type": "markdown",
   "id": "66cdfd3d",
   "metadata": {},
   "source": [
    "Looks so much better. Now that we know `Loudness` is heavily left-skewed, while `Speechiness`, `Acousticness` and `Liveness` are heavily right-skewed, we can perform square-transformation and square-root-transformation to them respectively."
   ]
  },
  {
   "cell_type": "code",
   "execution_count": null,
   "id": "ed9707be",
   "metadata": {},
   "outputs": [],
   "source": [
    "# for left-skewed, use cube-normalization\n",
    "after_graph_audio_features_df['loudness'] = before_graph_audio_features_df['loudness'].apply(lambda x : x**3)\n",
    "\n",
    "# for right-skewed, use square-root-normalization\n",
    "non_zero_columns = ['speechiness', 'acousticness', 'liveness']\n",
    "for column in non_zero_columns:\n",
    "    after_graph_audio_features_df[column] = before_graph_audio_features_df[column].apply(lambda x : np.sqrt(x))\n",
    "\n",
    "    \n",
    "# Printing before and after graph\n",
    "features_list = ['loudness','speechiness', 'acousticness', 'liveness']\n",
    "\n",
    "graph_title_before = 'Frequency Histogram of Skewed Audio Features Before Normalizing'\n",
    "plot_graph(graph_title_before, graph_height, graph_width, features_list, before_graph_audio_features_df)\n",
    "\n",
    "    \n",
    "graph_title_after = 'Frequency Histogram of Skewed Audio Features After Normalizing'\n",
    "plot_graph(graph_title_after, graph_height, graph_width, features_list, after_graph_audio_features_df)\n",
    "\n",
    "graph_audio_features_df = after_graph_audio_features_df.copy()\n",
    "audio_features_df = after_graph_audio_features_df.copy()"
   ]
  },
  {
   "cell_type": "markdown",
   "id": "2588921a",
   "metadata": {},
   "source": [
    "Although several audio features are yet to be close to normal, it is still way better than where we started from. Here's the final frequency histograms for every audio feature after various normalization techniques have been applied"
   ]
  },
  {
   "cell_type": "code",
   "execution_count": null,
   "id": "08cb7885",
   "metadata": {},
   "outputs": [],
   "source": [
    "graph_title = 'Original Frequency Histogram of Audio Features'\n",
    "plot_graph(graph_title, graph_height, graph_width, audio_features_list, original_audio_features_df)\n",
    "\n",
    "graph_title = 'Frequency Histograms of Audio Features'\n",
    "plot_graph(graph_title, graph_height, graph_width, audio_features_list, audio_features_df)"
   ]
  },
  {
   "cell_type": "markdown",
   "id": "0eaae6d0",
   "metadata": {},
   "source": [
    "### 2.3 Combining audio_features_df and track_details_df\n",
    "\n",
    "Due to some issues with spotify's song database, the audio_features for all songs still remain in the DB (presumably for song analysis purpose), but the track details (allbum, date of release, artist) have been removed. \n",
    "\n",
    "This caused quite a headache and took quite a long time to realize the issue, but alast it has been fixed, the rows with such missing data has been labelled as NA during the data retrieval process, for simple data pre-processing.\n",
    "\n",
    "The `merged_df` now contains information from `audio_features_df` as well as `track_details_df`, joined on the track id"
   ]
  },
  {
   "cell_type": "code",
   "execution_count": null,
   "id": "47e81e66",
   "metadata": {},
   "outputs": [],
   "source": [
    "merged_df = audio_features_df.merge(track_details_df, on='id', how='inner')\n",
    "\n",
    "tracks_with_missing_details = merged_df.loc[merged_df['track_uri'].isna(), 'id']\n",
    "\n",
    "merged_df = merged_df.drop(index=merged_df[merged_df['id'].isin(tracks_with_missing_details)].index)"
   ]
  },
  {
   "cell_type": "markdown",
   "id": "4888439d",
   "metadata": {},
   "source": [
    "### 2.4 One-Hot-Encoding (OHE) for `track_popularity` and `release_date` in `track_details_df`\n",
    "One-Hot Encoding (OHE) is used to convert categorical variables into a binary format, where each category is represented by a separate binary feature, making the data suitable for machine learning algorithms that require numerical inputs. Here's how we will be performing OHE:\n",
    "- OHE for `track_popularity` can be done by grouping them into buckets of their nearest 10s\n",
    "- OHE for `release_date` can be done by grouping them into the year released "
   ]
  },
  {
   "cell_type": "code",
   "execution_count": null,
   "id": "7911c763",
   "metadata": {},
   "outputs": [],
   "source": [
    "original_merged_df = merged_df.copy()\n",
    "\n",
    "merged_df['release_date'] = original_merged_df['release_date'].apply(lambda date_str: date_str.split('-')[0] if isinstance(date_str, str) and '-' in date_str else date_str)\n",
    "\n",
    "merged_df['track_popularity'] = original_merged_df['track_popularity'].apply(lambda popularity: (int(popularity // 10) * 10) if not pd.isna(popularity) else popularity)"
   ]
  },
  {
   "cell_type": "markdown",
   "id": "a8e4767a",
   "metadata": {},
   "source": [
    "# Data Visualization\n",
    "## Scatter Plot \n",
    "Allows better visualization of how one audio feature tends to affect the rest"
   ]
  },
  {
   "cell_type": "code",
   "execution_count": null,
   "id": "6723e683-ef31-4008-b4f3-7c82866bc85c",
   "metadata": {},
   "outputs": [],
   "source": [
    "num_rows = 1\n",
    "num_cols = len(audio_features_list)\n",
    "\n",
    "subplot_size = 5\n",
    "fig_row_size = subplot_size * num_cols\n",
    "fig_col_size = subplot_size\n",
    "\n",
    "for af in audio_features_list:\n",
    "    fig, axs = plt.subplots(nrows=num_rows, ncols=num_cols, figsize=(fig_row_size, fig_col_size))\n",
    "    \n",
    "    for i, feature in enumerate(audio_features_list):\n",
    "        axs[i].hexbin(x=audio_features_df[af], y=audio_features_df[feature], alpha=1, gridsize=25, cmap='terrain')\n",
    "        \n",
    "        axs[i].set_xlabel(af)\n",
    "        axs[i].set_ylabel(feature)\n",
    "        \n",
    "        # Adding linear regression line\n",
    "        slope, intercept = np.polyfit(audio_features_df[af], audio_features_df[feature], 1)\n",
    "        x_values = [audio_features_df[af].min(), audio_features_df[af].max()]\n",
    "        y_values = [slope * x + intercept for x in x_values]\n",
    "        axs[i].plot(x_values, y_values, color='red', linewidth=2)\n",
    "    \n",
    "    plt.tight_layout()\n",
    "    plt.savefig(f\"../resources/audio_feature_plots/plot_{af}.png\", format=\"png\", dpi=30)\n",
    "    plt.show()"
   ]
  },
  {
   "cell_type": "markdown",
   "id": "b605af4f",
   "metadata": {},
   "source": [
    "## Correlation Matrix\n",
    "Overview of the correlation between audio features (note: correlation need not necessarily imply causation)"
   ]
  },
  {
   "cell_type": "code",
   "execution_count": null,
   "id": "8adda922-c455-4d97-8686-bfb2625e884f",
   "metadata": {},
   "outputs": [],
   "source": [
    "correlation_matrix = audio_features_df[audio_features_list].corr()\n",
    "\n",
    "# Create a mask to hide the lower triangle (including the diagonal)\n",
    "mask = np.tril(np.ones_like(correlation_matrix, dtype=bool))\n",
    "\n",
    "# Plotting the correlation matrix as a heatmap, showing only the values in the upper triangle\n",
    "plt.figure(figsize=(8, 6))\n",
    "sns.heatmap(correlation_matrix, annot=True, cmap='coolwarm', fmt=\".2f\", center=0, mask=~mask)\n",
    "plt.title(\"Correlation Matrix of Audio Features\")\n",
    "plt.savefig(f\"../resources/audio_feature_plots/correlation.png\", format=\"png\", dpi=50)\n",
    "plt.show()"
   ]
  },
  {
   "cell_type": "markdown",
   "id": "f624485d",
   "metadata": {},
   "source": [
    "## Audio Feature Trend Over the Years\n",
    "Here's how the audio_features change over time"
   ]
  },
  {
   "cell_type": "code",
   "execution_count": null,
   "id": "76e1f49f",
   "metadata": {
    "scrolled": false
   },
   "outputs": [],
   "source": [
    "trend_analysis_df = original_merged_df.copy()\n",
    "\n",
    "trend_analysis_df = trend_analysis_df.dropna(subset=['release_date'])\n",
    "selected_columns = ['danceability', 'energy', 'loudness', 'speechiness', 'acousticness', 'liveness', 'valence', 'release_date']\n",
    "trend_analysis_df = trend_analysis_df[selected_columns]\n",
    "\n",
    "trend_analysis_df['release_date'] = pd.to_datetime(trend_analysis_df['release_date'], errors='coerce')\n",
    "\n",
    "trend_analysis_df['release_year'] = trend_analysis_df['release_date'].dt.to_period('Q').astype(str)\n",
    "trend_analysis_df['release_year'] = trend_analysis_df['release_year'].apply(lambda x: x.replace('Q1', 'H1').replace('Q2', 'H1').replace('Q3', 'H2').replace('Q4', 'H2'))\n",
    "\n",
    "trend_analysis_df = trend_analysis_df.groupby('release_year').mean().reset_index()\n",
    "\n",
    "subplots_per_row = 2\n",
    "num_rows = len(audio_features_list) // subplots_per_row + (len(audio_features_list) % subplots_per_row > 0)\n",
    "fig, axes = plt.subplots(nrows=num_rows, ncols=subplots_per_row, figsize=(25, 6 * num_rows))\n",
    "axes = axes.flatten()\n",
    "\n",
    "for i, audio_feature in enumerate(audio_features_list):\n",
    "\n",
    "    ax = axes[i]\n",
    "    ax.plot(trend_analysis_df.index, trend_analysis_df[audio_feature], label=audio_feature)\n",
    "    \n",
    "    ax.set_xlabel('Song Release Year')\n",
    "    ax.set_title(f'{audio_feature.capitalize()} Over The Years')\n",
    "    ax.grid(True)\n",
    "\n",
    "#     # x_ticks: how often a label is drawn, x_labels: what the label is\n",
    "#     x_ticks = trend_analysis_df.index[::120]\n",
    "#     x_labels = [date.split(\"-\")[0] for date in trend_analysis_df['release_year_month'][::120]]\n",
    "#     ax.set_xticks(x_ticks)\n",
    "#     ax.set_xticklabels(x_labels, rotation=45)\n",
    "\n",
    "plt.tight_layout()\n",
    "plt.show()"
   ]
  },
  {
   "cell_type": "markdown",
   "id": "a8806ecc",
   "metadata": {},
   "source": [
    "## Genre Clustering Word Based\n",
    "Clusters genres obtained from Spotify API using kmeans algorithm"
   ]
  },
  {
   "cell_type": "code",
   "execution_count": null,
   "id": "67be3aee",
   "metadata": {},
   "outputs": [],
   "source": [
    "from constants import global_genres as definitions\n",
    "\n",
    "# Convert the preprocessed definitions to TF-IDF vectors\n",
    "vectorizer = TfidfVectorizer()\n",
    "tfidf_matrix = vectorizer.fit_transform(definitions)\n",
    "\n",
    "# Use K-means clustering to group similar definitions\n",
    "num_clusters = 15\n",
    "kmeans = KMeans(n_clusters=num_clusters)\n",
    "kmeans.fit(tfidf_matrix)\n",
    "\n",
    "cluster_labels = kmeans.labels_\n",
    "\n",
    "# Concatenate definitions for each cluster without the cluster labels\n",
    "clusters = {}\n",
    "for i, label in enumerate(cluster_labels):\n",
    "    if label not in clusters:\n",
    "        clusters[label] = []\n",
    "    # Remove the [Cluster X] [X] annotations from the definitions\n",
    "    clean_definition = ' '.join([word for word in definitions[i].split() if not word.startswith('[')])\n",
    "    # Remove all numbers from the clean_definition using regex\n",
    "    clean_definition = re.sub(r'\\d+', '', clean_definition).replace(']', '')\n",
    "    clusters[label].append(clean_definition)"
   ]
  },
  {
   "cell_type": "markdown",
   "id": "4d479589",
   "metadata": {},
   "source": [
    "### Cluster Based Word Cloud\n",
    "Clustering genres based on definitions"
   ]
  },
  {
   "cell_type": "code",
   "execution_count": null,
   "id": "10c0399c",
   "metadata": {
    "scrolled": true
   },
   "outputs": [],
   "source": [
    "# Generate word clouds for each cluster\n",
    "for label, cluster_definitions in clusters.items():\n",
    "    all_definitions = ' '.join(cluster_definitions)\n",
    "    word_list = all_definitions.split()\n",
    "    # covert to set to remove duplicates\n",
    "    unique_words = list(set(word_list))  \n",
    "    unique_definitions = ' '.join(unique_words)\n",
    "\n",
    "    \n",
    "    wordcloud = WordCloud(width=800, height=400, background_color='white').generate(unique_definitions)\n",
    "\n",
    "    plt.figure(figsize=(10, 5))\n",
    "    plt.imshow(wordcloud, interpolation='bilinear')\n",
    "    plt.axis('off')\n",
    "    plt.title(f'Word Cloud for Cluster {label}')\n",
    "    plt.savefig(f\"../resources/wordclouds/cluster_{label}.png\", format=\"png\", dpi=50)\n",
    "    plt.show()"
   ]
  },
  {
   "cell_type": "markdown",
   "id": "636f26d1",
   "metadata": {},
   "source": [
    "### Overall Word Cloud\n",
    "Word cloud based on frequency of words in each genre"
   ]
  },
  {
   "cell_type": "code",
   "execution_count": null,
   "id": "e49be1cd",
   "metadata": {
    "scrolled": false
   },
   "outputs": [],
   "source": [
    "# Generate word clouds for each cluster and get word frequencies\n",
    "word_frequencies = {}\n",
    "for label, cluster_definitions in clusters.items():\n",
    "    all_definitions = ' '.join(cluster_definitions)\n",
    "    word_list = all_definitions.split()\n",
    "    for word in word_list:\n",
    "        if word in word_frequencies:\n",
    "            word_frequencies[word] += 1\n",
    "        else:\n",
    "            word_frequencies[word] = 1\n",
    "\n",
    "# Generate the large word cloud with overlapping clusters\n",
    "wordcloud = WordCloud(width=800, height=400, background_color='white')\n",
    "wordcloud.generate_from_frequencies(word_frequencies)\n",
    "\n",
    "# Display the large word cloud\n",
    "plt.figure(figsize=(10, 5))\n",
    "plt.imshow(wordcloud, interpolation='bilinear')\n",
    "plt.axis('off')\n",
    "plt.title('Overall Word Cloud')\n",
    "plt.savefig(f\"../resources/wordclouds/overall.png\", format=\"png\", dpi=50)\n",
    "plt.show()"
   ]
  },
  {
   "cell_type": "code",
   "execution_count": null,
   "id": "38847ad3",
   "metadata": {},
   "outputs": [],
   "source": [
    "# Temporary example to display the usage of cosine_similarity\n",
    "\n",
    "from sklearn.metrics.pairwise import cosine_similarity\n",
    "\n",
    "# Audio feature vectors for two tracks (8-dimensional)\n",
    "track1_features = np.array([0.1, 0.2, 0.3, 0.4, 0.5, 0.6, 0.7, 0.8])\n",
    "track2_features = np.array([0.5, 0.6, 0.7, 0.8, 0.9, 1.0, 0.2, 0.3])\n",
    "\n",
    "# Reshape feature vectors to be 2D arrays (1 row, 8 columns)\n",
    "track1_features = track1_features.reshape(1, -1)\n",
    "track2_features = track2_features.reshape(1, -1)\n",
    "\n",
    "# Calculate cosine similarity\n",
    "similarity = cosine_similarity(track1_features, track2_features)\n",
    "\n",
    "print(\"Cosine Similarity:\", similarity[0][0])"
   ]
  },
  {
   "cell_type": "markdown",
   "id": "dc77ef14",
   "metadata": {},
   "source": [
    "## Genre Clustering Using KMeans Algorithm\n",
    "\n",
    "Here's an overview of the whole clustering process:\n",
    "1. Identifying the optimal value of K for the Partitioning Clustering using the Elbow Method.\n",
    "2. Run Kmeans algorithm using the optimal K value.\n",
    "3. For each cluster, re-run Elbow Method to find the optimal K value for Hierachial Subclustering."
   ]
  },
  {
   "cell_type": "markdown",
   "id": "0a8cec1d",
   "metadata": {},
   "source": [
    "### Constant Declarations for KMeans Algorithm"
   ]
  },
  {
   "cell_type": "code",
   "execution_count": 5,
   "id": "3b66eacb",
   "metadata": {},
   "outputs": [],
   "source": [
    "from IPython.display import clear_output # clears output for better logging\n",
    "from sklearn.cluster import KMeans\n",
    "from collections import Counter # used to count frequency of genres in each cluster\n",
    "\n",
    "min_clusters = 1\n",
    "max_clusters = 11\n",
    "\n",
    "audio_feature_columns = ['danceability', 'energy', 'key', 'loudness', 'speechiness',\n",
    "                   'acousticness', 'instrumentalness', 'liveness', 'valence',\n",
    "                   'tempo', 'duration_ms']"
   ]
  },
  {
   "cell_type": "code",
   "execution_count": 7,
   "id": "9ed4aa0e",
   "metadata": {},
   "outputs": [
    {
     "data": {
      "image/png": "[encoded data removed]",
      "text/plain": [
       "<Figure size 1000x600 with 1 Axes>"
      ]
     },
     "metadata": {},
     "output_type": "display_data"
    }
   ],
   "source": [
    "X = audio_features_by_genre_df.iloc[:, 4:]\n",
    "inertia_values = []\n",
    "\n",
    "for k in range(min_clusters, max_clusters):\n",
    "    \n",
    "    status = f'Attempting Cluster Size: {k}'\n",
    "    print(status, end='\\r')  # '\\r' moves the cursor to the beginning of the same line, effectively overwriting previous line\n",
    "    \n",
    "    kmeans_main_model = KMeans(n_clusters=k, random_state=42)\n",
    "    kmeans_main_model.fit(X)\n",
    "    inertia_values.append(kmeans_main_model.inertia_)\n",
    "\n",
    "clear_output(wait=True)\n",
    "\n",
    "plt.figure(figsize=(10, 6))\n",
    "plt.plot(range(min_clusters, max_clusters), inertia_values, marker='o')\n",
    "plt.title('Determining Optimal Value for K')\n",
    "plt.xlabel('Number of Clusters, K')\n",
    "plt.ylabel('Inertia')\n",
    "plt.xticks(range(min_clusters, max_clusters))\n",
    "plt.show()"
   ]
  },
  {
   "cell_type": "code",
   "execution_count": 8,
   "id": "bc73cd0b",
   "metadata": {},
   "outputs": [
    {
     "name": "stdout",
     "output_type": "stream",
     "text": [
      "Sorted and selected data with cluster assignments written to ../data/processed_data/genres/clustered_audio_features_by_genre.csv\n"
     ]
    }
   ],
   "source": [
    "audio_features_kmeans_df = audio_features_by_genre_df.copy()\n",
    "\n",
    "X = audio_features_kmeans_df.iloc[:, 4:]\n",
    "\n",
    "num_clusters = 7\n",
    "kmeans_main_model = KMeans(n_clusters=num_clusters, random_state=42)\n",
    "kmeans_main_model.fit(X)\n",
    "\n",
    "audio_features_kmeans_df['cluster'] = kmeans_main_model.labels_\n",
    "audio_features_kmeans_df.sort_values(by='cluster', inplace=True)\n",
    "\n",
    "selected_columns = ['genre', 'cluster', 'track_name', 'track_uri']\n",
    "selected_df = audio_features_kmeans_df[selected_columns]\n",
    "clustered_audio_features_by_genre_file_path = '../data/processed_data/genres/clustered_audio_features_by_genre.csv'\n",
    "selected_df.to_csv(clustered_audio_features_by_genre_file_path, index=False)\n",
    "\n",
    "print(f'Sorted and selected data with cluster assignments written to {clustered_audio_features_by_genre_file_path}')"
   ]
  },
  {
   "cell_type": "code",
   "execution_count": null,
   "id": "7027289b",
   "metadata": {},
   "outputs": [],
   "source": [
    "# Removed for now, to idenfity top 20 genres in each cluster\n",
    "\n",
    "# from collections import Counter\n",
    "\n",
    "# # Group the DataFrame by 'cluster' and aggregate genres\n",
    "# clustered_genre_groups = selected_df.groupby('cluster')['genre'].apply(lambda x: list(x))\n",
    "\n",
    "# for cluster, genres in clustered_genre_groups.items():\n",
    "#     genre_counter = Counter(genres)\n",
    "#     most_common_genres = genre_counter.most_common(20)\n",
    "    \n",
    "#     print(f\"Cluster {cluster}:\")\n",
    "#     for genre, count in most_common_genres:\n",
    "#         print(f\"  {genre}: {count}\")\n",
    "#     print()"
   ]
  },
  {
   "cell_type": "code",
   "execution_count": 9,
   "id": "a154b722",
   "metadata": {
    "scrolled": false
   },
   "outputs": [
    {
     "data": {
      "image/png": "[encoded data removed]",
      "text/plain": [
       "<Figure size 1000x600 with 1 Axes>"
      ]
     },
     "metadata": {},
     "output_type": "display_data"
    }
   ],
   "source": [
    "unique_clusters = audio_features_kmeans_df['cluster'].unique()\n",
    "\n",
    "plt.figure(figsize=(10, 6))\n",
    "\n",
    "for cluster in unique_clusters:\n",
    "    status = f'Finding optimal value of K for Cluster {cluster}'\n",
    "    print(status)\n",
    "    \n",
    "    # Filter data for the current cluster\n",
    "    cluster_data = audio_features_kmeans_df[audio_features_kmeans_df['cluster'] == cluster]\n",
    "    X = cluster_data.loc[:, audio_feature_columns]\n",
    "\n",
    "    # Perform the elbow method to find the optimal K value\n",
    "    inertia_values = []\n",
    "    \n",
    "    for k in range(min_clusters, max_clusters):\n",
    "        status = f'Attempting Cluster Size: {k}'\n",
    "        print(status, end='\\r')\n",
    "        \n",
    "        kmeans_subcluster_model = KMeans(n_clusters=k, random_state=42)\n",
    "        kmeans_subcluster_model.fit(X)\n",
    "        inertia_values.append(kmeans_subcluster_model.inertia_)\n",
    "\n",
    "    clear_output(wait=True)\n",
    "    \n",
    "    # Plot the elbow method results for each cluster on the same chart\n",
    "    plt.plot(range(min_clusters, max_clusters), inertia_values, marker='o', label=f'Cluster {cluster}')\n",
    "    plt.title('Elbow Method for Optimal K')\n",
    "    plt.xlabel('Number of Clusters (K)')\n",
    "    plt.ylabel('Inertia')\n",
    "    plt.xticks(range(min_clusters, max_clusters))\n",
    "    plt.legend()\n",
    "\n",
    "plt.tight_layout()\n",
    "plt.show()"
   ]
  },
  {
   "cell_type": "code",
   "execution_count": 10,
   "id": "582e1ed1",
   "metadata": {},
   "outputs": [
    {
     "name": "stdout",
     "output_type": "stream",
     "text": [
      "All subclustering processes completed.\n"
     ]
    }
   ],
   "source": [
    "num_subclusters = 5\n",
    "\n",
    "subcluster_models = {}  # Dictionary to store subcluster KMeans models\n",
    "\n",
    "# Iterate through each unique cluster label\n",
    "for cluster in audio_features_kmeans_df['cluster'].unique():\n",
    "    status = f'Processing Subclustering for Cluster {cluster}'\n",
    "    print(status, end='\\r')\n",
    "    \n",
    "    cluster_data = audio_features_kmeans_df[audio_features_kmeans_df['cluster'] == cluster]\n",
    "\n",
    "    X_subcluster = cluster_data.loc[:, audio_feature_columns] # clusters based on audio_features only, NOT cluster/subcluster value\n",
    "\n",
    "    # Perform subclustering for the current cluster\n",
    "    kmeans_subcluster_model = KMeans(n_clusters=num_subclusters, random_state=42)\n",
    "    kmeans_subcluster_model.fit(X_subcluster)\n",
    "    \n",
    "    # Store the subcluster KMeans model for the current cluster\n",
    "    subcluster_models[cluster] = kmeans_subcluster_model\n",
    "\n",
    "# Use the stored subcluster models to assign subcluster labels back to the original DataFrame\n",
    "for cluster, kmeans_subcluster_model in subcluster_models.items():\n",
    "    cluster_data = audio_features_kmeans_df[audio_features_kmeans_df['cluster'] == cluster]\n",
    "    X_subcluster = cluster_data.loc[:, audio_feature_columns]\n",
    "    subcluster_labels = kmeans_subcluster_model.predict(X_subcluster)\n",
    "    audio_features_kmeans_df.loc[audio_features_kmeans_df['cluster'] == cluster, 'subcluster'] = subcluster_labels.astype(int)\n",
    "\n",
    "audio_features_kmeans_df.sort_values(by=['cluster', 'subcluster'], inplace=True)\n",
    "\n",
    "selected_columns = ['genre', 'cluster', 'subcluster', 'track_name', 'track_uri']\n",
    "audio_features_kmeans_df[selected_columns].to_csv(clustered_audio_features_by_genre_file_path, index=False)\n",
    "\n",
    "print(\"All subclustering processes completed.\")"
   ]
  },
  {
   "cell_type": "code",
   "execution_count": null,
   "id": "5d175405",
   "metadata": {},
   "outputs": [],
   "source": [
    "# Commented out for now, no real reason to combine\n",
    "\n",
    "# audio_features_kmeans_df = pd.read_csv(clustered_audio_features_by_genre_file_path)\n",
    "\n",
    "# audio_features_kmeans_df['genre_cluster'] = audio_features_kmeans_df['cluster'].astype(str) + ', ' + audio_features_kmeans_df['subcluster'].astype(str)\n",
    "\n",
    "# audio_features_kmeans_df.to_csv(clustered_audio_features_by_genre_file_path, index=False)\n",
    "\n",
    "# print(\"Added 'genre_cluster' column and saved to CSV.\")"
   ]
  },
  {
   "cell_type": "markdown",
   "id": "8efaff74",
   "metadata": {},
   "source": [
    "### Breakdown of Cluster/Subcluster Details"
   ]
  },
  {
   "cell_type": "code",
   "execution_count": 23,
   "id": "531674ab",
   "metadata": {
    "scrolled": false
   },
   "outputs": [
    {
     "data": {
      "image/png": "[encoded data removed]",
      "text/plain": [
       "<Figure size 500x500 with 1 Axes>"
      ]
     },
     "metadata": {},
     "output_type": "display_data"
    },
    {
     "name": "stdout",
     "output_type": "stream",
     "text": [
      "Cluster 0: 77605 occurrences (24.74%)\n",
      "Cluster 1: 68832 occurrences (21.94%)\n",
      "Cluster 2: 4743 occurrences (1.51%)\n",
      "Cluster 3: 174 occurrences (0.06%)\n",
      "Cluster 4: 137032 occurrences (43.68%)\n",
      "Cluster 5: 24450 occurrences (7.79%)\n",
      "Cluster 6: 860 occurrences (0.27%)\n"
     ]
    }
   ],
   "source": [
    "cluster_counts = audio_features_kmeans_df['cluster'].value_counts().sort_index()\n",
    "sizes = cluster_counts.values\n",
    "\n",
    "plt.figure(figsize=(5, 5))\n",
    "plt.pie(sizes, autopct='', startangle=140)\n",
    "plt.axis('equal')\n",
    "\n",
    "plt.title(\"Distribution of Occurrences across Clusters\")\n",
    "plt.legend(labels=[f\"Cluster {cluster}\" for cluster in cluster_counts.index], loc=\"best\")\n",
    "plt.show()\n",
    "\n",
    "\n",
    "\n",
    "total_occurrences = len(audio_features_kmeans_df)\n",
    "\n",
    "cluster_counts = audio_features_kmeans_df['cluster'].value_counts().sort_index()\n",
    "for cluster, count in cluster_counts.items():\n",
    "    percentage = (count / total_occurrences) * 100\n",
    "    print(f\"Cluster {cluster}: {count} occurrences ({percentage:.2f}%)\")"
   ]
  },
  {
   "cell_type": "markdown",
   "id": "017fbb9f",
   "metadata": {},
   "source": [
    "### Cluster/Subcluster Prediction Time"
   ]
  },
  {
   "cell_type": "code",
   "execution_count": 24,
   "id": "1f37812c",
   "metadata": {},
   "outputs": [
    {
     "name": "stdout",
     "output_type": "stream",
     "text": [
      "Sample track belongs to Cluster 4, Subcluster 0\n"
     ]
    },
    {
     "name": "stderr",
     "output_type": "stream",
     "text": [
      "/Library/Frameworks/Python.framework/Versions/3.9/lib/python3.9/site-packages/sklearn/base.py:450: UserWarning: X does not have valid feature names, but KMeans was fitted with feature names\n",
      "  warnings.warn(\n",
      "/Library/Frameworks/Python.framework/Versions/3.9/lib/python3.9/site-packages/sklearn/base.py:450: UserWarning: X does not have valid feature names, but KMeans was fitted with feature names\n",
      "  warnings.warn(\n"
     ]
    }
   ],
   "source": [
    "sample_track = [{'id': '4h8VwCb1MTGoLKueQ1WgbD', 'danceability': 0.532, 'energy': 0.783, 'key': 2, 'loudness': -5.697, 'speechiness': 0.0523, 'acousticness': 0.0038, 'instrumentalness': 0.0012, 'liveness': 0.161, 'valence': 0.643, 'tempo': 124.08, 'duration_ms': 247427}]\n",
    "\n",
    "audio_features = sample_track[0]\n",
    "sample_track_audio_features = [\n",
    "    audio_features['danceability'],\n",
    "    audio_features['energy'],\n",
    "    audio_features['key'],\n",
    "    audio_features['loudness'],\n",
    "    audio_features['speechiness'],\n",
    "    audio_features['acousticness'],\n",
    "    audio_features['instrumentalness'],\n",
    "    audio_features['liveness'],\n",
    "    audio_features['valence'],\n",
    "    audio_features['tempo'],\n",
    "    audio_features['duration_ms']\n",
    "]\n",
    "\n",
    "# Reshape the audio feature vector to match the input format\n",
    "sample_track_audio_features = [sample_track_audio_features]\n",
    "\n",
    "# Predict the cluster and subcluster for the sample track's audio features\n",
    "predicted_cluster = kmeans_main_model.predict(sample_track_audio_features)\n",
    "kmeans_subcluster_model = subcluster_models[predicted_cluster[0]]\n",
    "predicted_subcluster = kmeans_subcluster_model.predict(sample_track_audio_features)  # Use the appropriate subcluster model\n",
    "\n",
    "print(f\"Sample track belongs to Cluster {predicted_cluster[0]}, Subcluster {predicted_subcluster[0]}\")\n",
    "# print(f\"Sample track belongs to Cluster {predicted_cluster[0]}\")"
   ]
  },
  {
   "cell_type": "code",
   "execution_count": null,
   "id": "0392edb1",
   "metadata": {},
   "outputs": [],
   "source": []
  }
 ],
 "metadata": {
  "kernelspec": {
   "display_name": "Python 3 (ipykernel)",
   "language": "python",
   "name": "python3"
  },
  "language_info": {
   "codemirror_mode": {
    "name": "ipython",
    "version": 3
   },
   "file_extension": ".py",
   "mimetype": "text/x-python",
   "name": "python",
   "nbconvert_exporter": "python",
   "pygments_lexer": "ipython3",
   "version": "3.9.12"
  }
 },
 "nbformat": 4,
 "nbformat_minor": 5
}
