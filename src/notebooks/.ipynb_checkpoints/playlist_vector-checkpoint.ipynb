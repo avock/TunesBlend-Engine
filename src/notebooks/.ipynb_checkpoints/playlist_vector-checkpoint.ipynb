{
 "cells": [
  {
   "cell_type": "code",
   "execution_count": 1,
   "id": "a2b7c4e2",
   "metadata": {},
   "outputs": [
    {
     "data": {
      "text/html": [
       "<style>.container { width:90% !important; }</style>"
      ],
      "text/plain": [
       "<IPython.core.display.HTML object>"
      ]
     },
     "metadata": {},
     "output_type": "display_data"
    }
   ],
   "source": [
    "import pandas as pd\n",
    "import numpy as np\n",
    "import matplotlib.pyplot as plt\n",
    "\n",
    "from datetime import datetime, timezone\n",
    "\n",
    "\"Libraries to help with jupyter notebook usage\"\n",
    "# Increases jupyter notebook display width\n",
    "from IPython.display import display, HTML\n",
    "display(HTML(\"<style>.container { width:90% !important; }</style>\"))\n",
    "\n",
    "from IPython.display import Image # Helps display images in notebook"
   ]
  },
  {
   "cell_type": "code",
   "execution_count": 2,
   "id": "5a31c358",
   "metadata": {},
   "outputs": [],
   "source": [
    "import sys\n",
    "\"Appends both parent and grandparent dir to current path, to allow importing\"\n",
    "sys.path.append('..')\n",
    "sys.path.append('../..')\n",
    "\n",
    "from jupyternotebook_utils import *\n",
    "from utils import *\n",
    "from data_processing import *\n",
    "from spotify_data import *\n",
    "from spotify_utils import *"
   ]
  },
  {
   "cell_type": "code",
   "execution_count": 3,
   "id": "61c873f3",
   "metadata": {},
   "outputs": [],
   "source": [
    "spotify_scopes = \"playlist-read-private playlist-modify-private playlist-modify-public user-read-recently-played user-top-read user-library-modify\"\n",
    "sp = spotipy.Spotify(auth_manager=SpotifyOAuth(client_id=client_id,\n",
    "                                               client_secret=client_secret,\n",
    "                                               redirect_uri=\"http://127.0.0.1:8000/callback\",\n",
    "                                               scope=spotify_scopes))\n",
    "\n",
    "selected_columns = ['danceability', 'energy', 'key', 'loudness', 'speechiness',\n",
    "                   'acousticness', 'instrumentalness', 'liveness', 'valence', 'tempo',\n",
    "                   'duration_ms', 'date_added', 'date_released']"
   ]
  },
  {
   "cell_type": "code",
   "execution_count": 4,
   "id": "6d8a9022",
   "metadata": {
    "scrolled": true
   },
   "outputs": [
    {
     "data": {
      "text/plain": [
       "[{'playlist_name': 'COLDPLAY 2024',\n",
       "  'playlist_uri': 'spotify:playlist:6GmE6FZnc31SRHEfS2tNii',\n",
       "  'playlist_href': 'https://open.spotify.com/playlist/6GmE6FZnc31SRHEfS2tNii',\n",
       "  'playlist_track_count': 1},\n",
       " {'playlist_name': '//lo-fi beats 🎶🌕',\n",
       "  'playlist_uri': 'spotify:playlist:3p4ZD7MTwrL4OaiEN1dFfu',\n",
       "  'playlist_href': 'https://open.spotify.com/playlist/3p4ZD7MTwrL4OaiEN1dFfu',\n",
       "  'playlist_track_count': 425},\n",
       " {'playlist_name': \"//vibin' 🎺\",\n",
       "  'playlist_uri': 'spotify:playlist:4YB4UFkYYJhy3iNaHZoGXa',\n",
       "  'playlist_href': 'https://open.spotify.com/playlist/4YB4UFkYYJhy3iNaHZoGXa',\n",
       "  'playlist_track_count': 91},\n",
       " {'playlist_name': '//productive mario-ing',\n",
       "  'playlist_uri': 'spotify:playlist:51yNcvKUbFtC6WwJi4KHH5',\n",
       "  'playlist_href': 'https://open.spotify.com/playlist/51yNcvKUbFtC6WwJi4KHH5',\n",
       "  'playlist_track_count': 1306},\n",
       " {'playlist_name': '//du zi da zi 🏋🏻',\n",
       "  'playlist_uri': 'spotify:playlist:1f2neve1uJPOCfkahOkdEf',\n",
       "  'playlist_href': 'https://open.spotify.com/playlist/1f2neve1uJPOCfkahOkdEf',\n",
       "  'playlist_track_count': 166},\n",
       " {'playlist_name': \"//windin' down  💨🍃\",\n",
       "  'playlist_uri': 'spotify:playlist:699RMfk5lxJ9uf7ZwMktYa',\n",
       "  'playlist_href': 'https://open.spotify.com/playlist/699RMfk5lxJ9uf7ZwMktYa',\n",
       "  'playlist_track_count': 34},\n",
       " {'playlist_name': '//pumped up kicks 🥁',\n",
       "  'playlist_uri': 'spotify:playlist:6FS0wzsoprqRG9PAFsmVSz',\n",
       "  'playlist_href': 'https://open.spotify.com/playlist/6FS0wzsoprqRG9PAFsmVSz',\n",
       "  'playlist_track_count': 48},\n",
       " {'playlist_name': '//华文fu',\n",
       "  'playlist_uri': 'spotify:playlist:0COeGz9neUCleVpgZmDlzm',\n",
       "  'playlist_href': 'https://open.spotify.com/playlist/0COeGz9neUCleVpgZmDlzm',\n",
       "  'playlist_track_count': 214},\n",
       " {'playlist_name': '//日本語  🇯🇵',\n",
       "  'playlist_uri': 'spotify:playlist:0AfGrhDpHs17mj7pHeScPZ',\n",
       "  'playlist_href': 'https://open.spotify.com/playlist/0AfGrhDpHs17mj7pHeScPZ',\n",
       "  'playlist_track_count': 4}]"
      ]
     },
     "execution_count": 4,
     "metadata": {},
     "output_type": "execute_result"
    }
   ],
   "source": [
    "user_playlists = get_user_playlists(sp)\n",
    "\n",
    "user_playlists"
   ]
  },
  {
   "cell_type": "code",
   "execution_count": 5,
   "id": "ff52e99d",
   "metadata": {
    "scrolled": true
   },
   "outputs": [
    {
     "name": "stdout",
     "output_type": "stream",
     "text": [
      "Playlist \"//windin' down  💨🍃\" audio features succesfully retrieved.\n"
     ]
    }
   ],
   "source": [
    "target_playlist = 'spotify:playlist:1f2neve1uJPOCfkahOkdEf'\n",
    "        \n",
    "playlist_audio_features = get_user_playlist_audio_features(sp, target_playlist)\n",
    "\n",
    "for playlist in user_playlists:\n",
    "    if playlist['playlist_uri'] == target_playlist:\n",
    "        target_playlist_name = playlist['playlist_name']\n",
    "        status = f'Playlist \"{target_playlist_name}\" audio features succesfully retrieved.'\n",
    "        print(status)"
   ]
  },
  {
   "cell_type": "code",
   "execution_count": 6,
   "id": "9e3c70e7",
   "metadata": {},
   "outputs": [
    {
     "name": "stdout",
     "output_type": "stream",
     "text": [
      "Playlist \"//windin' down  💨🍃\" details succesfully retrieved.\n"
     ]
    }
   ],
   "source": [
    "playlist_details = get_playlist_tracks(sp, target_playlist)['tracks']\n",
    "\n",
    "status = f'Playlist \"{target_playlist_name}\" details succesfully retrieved.'\n",
    "print(status)"
   ]
  },
  {
   "cell_type": "code",
   "execution_count": 7,
   "id": "5d452997",
   "metadata": {},
   "outputs": [
    {
     "name": "stdout",
     "output_type": "stream",
     "text": [
      "Combined array containing details and audio features of \"//windin' down  💨🍃\" succesfully created.\n"
     ]
    }
   ],
   "source": [
    "combined_array = []\n",
    "for audio_feature_entry in playlist_audio_features:\n",
    "    for track_info_entry in playlist_details:\n",
    "        if audio_feature_entry['id'] == track_info_entry['track_idx']:\n",
    "            combined_entry = {**audio_feature_entry, **track_info_entry}\n",
    "            combined_array.append(combined_entry)\n",
    "            break\n",
    "\n",
    "status = f'Combined array containing details and audio features of \"{target_playlist_name}\" succesfully created.'\n",
    "print(status)"
   ]
  },
  {
   "cell_type": "code",
   "execution_count": 8,
   "id": "59271851",
   "metadata": {},
   "outputs": [
    {
     "name": "stdout",
     "output_type": "stream",
     "text": [
      "Multiple copies of df succesfully created.\n"
     ]
    }
   ],
   "source": [
    "df = pd.DataFrame(combined_array)\n",
    "df = df[selected_columns]\n",
    "\n",
    "before_df = df.copy()\n",
    "after_df = df.copy()\n",
    "\n",
    "status = f'Multiple copies of df succesfully created.'\n",
    "print(status)"
   ]
  },
  {
   "cell_type": "code",
   "execution_count": 9,
   "id": "c534374c",
   "metadata": {},
   "outputs": [
    {
     "name": "stdout",
     "output_type": "stream",
     "text": [
      "Playlist Audio Features:\n",
      "danceability      0.506853\n",
      "energy            0.276676\n",
      "loudness        -12.927265\n",
      "speechiness       0.066879\n",
      "acousticness      0.863147\n",
      "liveness          0.167350\n",
      "valence           0.287471\n",
      "tempo           110.181353\n",
      "dtype: float64\n",
      "\n",
      "[0.5069, 0.2767, -12.9273, 0.0669, 0.8631, 0.1674, 0.2875, 110.1814]\n",
      "\n",
      "Normalized Playlist Audio Features:\n",
      "danceability      0.506853\n",
      "energy            0.276676\n",
      "loudness        -12.927265\n",
      "speechiness       0.066879\n",
      "acousticness      0.863147\n",
      "liveness          0.167350\n",
      "valence           0.287471\n",
      "tempo           110.181353\n",
      "dtype: float64\n",
      "\n",
      "[0.411, 0.1985, 0.2127, 0.1885, 0.9513, 0.465, 0.2875, 0.4347]\n",
      "\n",
      "Playlist Vector:\n",
      "acousticness    0.3021\n",
      "liveness        0.1477\n",
      "tempo           0.1380\n",
      "danceability    0.1305\n",
      "valence         0.0913\n",
      "loudness        0.0675\n",
      "energy          0.0630\n",
      "speechiness     0.0599\n",
      "dtype: float64\n"
     ]
    }
   ],
   "source": [
    "# Step 1: Min-max normalization for selected features\n",
    "input_data_ranges = {\n",
    "    'loudness': (-60, 0),\n",
    "    'tempo': (0, 250),\n",
    "    'key': (-1, 11)\n",
    "}\n",
    "for feature, (feature_min, feature_max) in input_data_ranges.items():\n",
    "    after_df[feature] = (after_df[feature] - feature_min) / (feature_max - feature_min)\n",
    "\n",
    "# Step 2: Keep selected audio features\n",
    "selected_features = ['danceability', 'energy', 'loudness', 'speechiness', 'acousticness', 'liveness', 'valence', 'tempo', 'date_added']\n",
    "filtered_data = after_df[selected_features].copy()\n",
    "\n",
    "# Step 3: Cube root transformation for selected features\n",
    "cubed_features = ['speechiness', 'acousticness', 'liveness']\n",
    "for feature in cubed_features:\n",
    "    filtered_data[feature] = np.cbrt(filtered_data[feature])\n",
    "\n",
    "# Step 4: Logarithmic transformation for selected features\n",
    "log_features = ['energy', 'loudness']\n",
    "for feature in log_features:\n",
    "    filtered_data[feature] = np.log1p(filtered_data[feature])\n",
    "\n",
    "# Step 5: IQR-filtering based on thresholds\n",
    "lower_thresholds =  {'danceability': 0.16850000000000004, 'energy': 0.14936944969853527, 'loudness': 0.5734535346157168, \n",
    "                     'speechiness': 0.11183139278235099, 'acousticness': -0.35285124201451823, 'liveness': 0.20276263879283324, \n",
    "                     'valence': -0.24249999999999988, 'tempo': 0.16009000000000007}\n",
    "upper_thresholds = {'danceability': 1.0525, 'energy': 0.8605850164229211, 'loudness': 0.698995265917933, \n",
    "                    'speechiness': 0.6924946680943335, 'acousticness': 1.280417950271011, 'liveness': 0.8754111662234604, \n",
    "                    'valence': 1.2494999999999998, 'tempo': 0.7998179999999999}\n",
    "\n",
    "for feature in selected_features:\n",
    "    if feature != 'date_added':\n",
    "        filtered_data[feature] = np.where(\n",
    "            (filtered_data[feature] >= lower_thresholds[feature]) &\n",
    "            (filtered_data[feature] <= upper_thresholds[feature]),\n",
    "            filtered_data[feature],\n",
    "            np.nan\n",
    "        )\n",
    "\n",
    "# Step 6: Min-max Normalization\n",
    "feature_min = {'danceability': 0.169, 'energy': 0.1501426584297195, 'loudness': 0.5734623376139655, \n",
    "               'speechiness': 0.27977873676275317, 'acousticness': 0.0, 'liveness': 0.21074564860592623, \n",
    "               'valence': 0.0, 'tempo': 0.164644}\n",
    "\n",
    "feature_max = {'danceability': 0.991, 'energy': 0.6931471805599453, 'loudness': 0.6983917371326527, \n",
    "               'speechiness': 0.692435557262704, 'acousticness': 0.9986648849277057, 'liveness': 0.8750340122833274, \n",
    "               'valence': 1.0, 'tempo': 0.799812}\n",
    "\n",
    "for feature in selected_features:\n",
    "    if feature in feature_min:\n",
    "        filtered_data[feature] = (filtered_data[feature] - feature_min[feature]) / (feature_max[feature] - feature_min[feature])\n",
    "    \n",
    "# Step 7: Timestamp Normalization\n",
    "filtered_data['date_added'] = pd.to_datetime(filtered_data['date_added']).dt.tz_localize(None)  # Convert to tz-naive\n",
    "current_date = datetime.datetime.now()\n",
    "\n",
    "# Calculate number of days since date_added\n",
    "filtered_data['days_since_added'] = (current_date - filtered_data['date_added']).dt.days\n",
    "\n",
    "multipliers = filtered_data['days_since_added'].apply(\n",
    "    lambda days: 1 if days <= 180 else (1 if days <= 365 else (1 if days <= 1095 else 1))\n",
    "#     lambda days: 1 if days <= 180 else (0.75 if days <= 365 else (0.5 if days <= 1095 else 0.25))\n",
    ")\n",
    "\n",
    "for feature in selected_features:\n",
    "    if feature != 'date_added':\n",
    "        filtered_data[feature] *= multipliers\n",
    "    \n",
    "# Step 8: Calculate playlist vector\n",
    "columns_to_drop = ['date_added', 'days_since_added']\n",
    "\n",
    "filtered_data = filtered_data.drop(columns=columns_to_drop)\n",
    "playlist_vector = filtered_data.mean()\n",
    "playlist_vector = (playlist_vector / playlist_vector.sum()).round(4)\n",
    "\n",
    "playlist_vector = playlist_vector.sort_values(ascending=False)\n",
    "\n",
    "columns_to_drop = ['date_added']\n",
    "# Printing Playlist Vector and Playlist Audio Features\n",
    "average_before = before_df[selected_features].drop(columns=columns_to_drop).mean()\n",
    "playlist_audio_features_array = average_before.to_numpy().round(4)\n",
    "\n",
    "print(\"Playlist Audio Features:\")\n",
    "print(average_before)\n",
    "print()\n",
    "print([int(value * 10000) / 10000 for value in playlist_audio_features_array])\n",
    "print()\n",
    "\n",
    "average_after = filtered_data.mean()\n",
    "playlist_audio_features_array = average_after.to_numpy().round(4)\n",
    "\n",
    "print(\"Normalized Playlist Audio Features:\")\n",
    "print(average_before)\n",
    "print()\n",
    "print([int(value * 10000) / 10000 for value in playlist_audio_features_array])\n",
    "print()\n",
    "\n",
    "print(\"Playlist Vector:\")\n",
    "print(playlist_vector)"
   ]
  },
  {
   "cell_type": "code",
   "execution_count": 10,
   "id": "fb48cd6c",
   "metadata": {},
   "outputs": [],
   "source": [
    "track_uri = 'spotify:track:1LeSp4o3CeNhJz3kCWgi6E'\n",
    "# play_track_in_browser(track_uri)"
   ]
  }
 ],
 "metadata": {
  "kernelspec": {
   "display_name": "Python 3 (ipykernel)",
   "language": "python",
   "name": "python3"
  },
  "language_info": {
   "codemirror_mode": {
    "name": "ipython",
    "version": 3
   },
   "file_extension": ".py",
   "mimetype": "text/x-python",
   "name": "python",
   "nbconvert_exporter": "python",
   "pygments_lexer": "ipython3",
   "version": "3.9.12"
  }
 },
 "nbformat": 4,
 "nbformat_minor": 5
}
