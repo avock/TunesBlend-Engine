{
 "cells": [
  {
   "cell_type": "code",
   "execution_count": null,
   "id": "c2ef8ae6-a054-4a64-9c97-4b373bb8130f",
   "metadata": {},
   "outputs": [],
   "source": [
    "import pandas as pd\n",
    "import numpy as np\n",
    "import seaborn as sns\n",
    "import matplotlib.pyplot as plt\n",
    "import seaborn as sns"
   ]
  },
  {
   "cell_type": "code",
   "execution_count": null,
   "id": "490aba43-4a88-45be-8a5e-f6999fa762a6",
   "metadata": {},
   "outputs": [],
   "source": [
    "from sklearn.model_selection import train_test_split\n",
    "from sklearn.linear_model import LinearRegression\n",
    "from sklearn.metrics import mean_squared_error"
   ]
  },
  {
   "cell_type": "markdown",
   "id": "290f6d68",
   "metadata": {},
   "source": [
    "### Data Pre-processing\n",
    "- Removing irrelevant audio features\n",
    "- Remove outliers (top and bottom 10%) of each audio feature"
   ]
  },
  {
   "cell_type": "code",
   "execution_count": null,
   "id": "0f6e21eb-05b6-40bb-9e3d-df89a902201b",
   "metadata": {},
   "outputs": [],
   "source": [
    "import pandas as pd\n",
    "\n",
    "combined_df = []\n",
    "\n",
    "for i in range(10):\n",
    "    file_path = f'../data/processed_data/audio_features/audio_features-{i*1000}-{(i+1)*1000 - 1}.csv'\n",
    "    df = pd.read_csv(file_path)\n",
    "    combined_df.append(df.drop(columns=['key', 'duration_ms', 'instrumentalness']))\n",
    "\n",
    "combined_df = pd.concat(combined_df, ignore_index=True)\n",
    "\n",
    "# Calculate the lower and upper quantiles (25% and 75%) for each audio feature\n",
    "lower_quantile = 0.10\n",
    "upper_quantile = 0.90\n",
    "audio_features = combined_df.columns[1:]\n",
    "quantiles = combined_df[audio_features].quantile([lower_quantile, upper_quantile])\n",
    "\n",
    "# Filter out the outliers based on the quantiles\n",
    "filtered_df = combined_df.copy()\n",
    "for feature in audio_features:\n",
    "    lower_threshold = quantiles.loc[lower_quantile, feature]\n",
    "    upper_threshold = quantiles.loc[upper_quantile, feature]\n",
    "    \n",
    "    filtered_df = filtered_df[(filtered_df[feature] >= lower_threshold) & (filtered_df[feature] <= upper_threshold)]"
   ]
  },
  {
   "cell_type": "markdown",
   "id": "8923d8a3",
   "metadata": {},
   "source": [
    "### Initial Data Visualization\n",
    "Scatter plot of every audio feature against every other audio feature is generated for better visualisation"
   ]
  },
  {
   "cell_type": "code",
   "execution_count": null,
   "id": "6723e683-ef31-4008-b4f3-7c82866bc85c",
   "metadata": {
    "scrolled": false
   },
   "outputs": [],
   "source": [
    "# Get the list of audio features (excluding 'id' and 'danceability')\n",
    "audio_features = filtered_df.columns[1:]\n",
    "\n",
    "num_rows = 1\n",
    "num_cols = len(audio_features)\n",
    "\n",
    "subplot_size = 5\n",
    "fig_row_size = subplot_size * num_cols\n",
    "fig_col_size = subplot_size \n",
    "\n",
    "audio_features_list = ['danceability', 'energy', 'loudness', 'speechiness', 'acousticness', 'liveness', 'valence', 'tempo']\n",
    "\n",
    "for af in audio_features_list:\n",
    "    fig, axs = plt.subplots(nrows=num_rows, ncols=num_cols, figsize=(fig_row_size, fig_col_size))\n",
    "    \n",
    "    for i, feature in enumerate(audio_features):\n",
    "        axs[i].hexbin(x=filtered_df[af], y=filtered_df[feature], alpha=1, gridsize=40, cmap='terrain')\n",
    "        \n",
    "        axs[i].set_xlabel(af)\n",
    "        axs[i].set_ylabel(feature)\n",
    "    \n",
    "    plt.tight_layout()\n",
    "    plt.savefig(f\"../resources/audio_feature_plots/plot_{af}.png\", format=\"png\", dpi=50)\n",
    "    plt.show()"
   ]
  },
  {
   "cell_type": "code",
   "execution_count": null,
   "id": "8adda922-c455-4d97-8686-bfb2625e884f",
   "metadata": {},
   "outputs": [],
   "source": [
    "import numpy as np\n",
    "import pandas as pd\n",
    "\n",
    "# Assuming you have already calculated the correlation_matrix\n",
    "correlation_matrix = filtered_df[audio_features_list].corr()\n",
    "\n",
    "# Create a mask to hide the lower triangle (including the diagonal)\n",
    "mask = np.tril(np.ones_like(correlation_matrix, dtype=bool))\n",
    "\n",
    "# Plotting the correlation matrix as a heatmap, showing only the values in the upper triangle\n",
    "plt.figure(figsize=(8, 6))\n",
    "sns.heatmap(correlation_matrix, annot=True, cmap='YlGnBu', fmt=\".2f\", center=0, mask=~mask)\n",
    "plt.title(\"Correlation Matrix of Audio Features (Bottom Half)\")\n",
    "plt.show()"
   ]
  },
  {
   "cell_type": "code",
   "execution_count": null,
   "id": "10c0399c",
   "metadata": {},
   "outputs": [],
   "source": []
  }
 ],
 "metadata": {
  "kernelspec": {
   "display_name": "Python 3 (ipykernel)",
   "language": "python",
   "name": "python3"
  },
  "language_info": {
   "codemirror_mode": {
    "name": "ipython",
    "version": 3
   },
   "file_extension": ".py",
   "mimetype": "text/x-python",
   "name": "python",
   "nbconvert_exporter": "python",
   "pygments_lexer": "ipython3",
   "version": "3.9.12"
  }
 },
 "nbformat": 4,
 "nbformat_minor": 5
}
