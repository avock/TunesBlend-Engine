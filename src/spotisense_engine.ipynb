{
 "cells": [
  {
   "cell_type": "code",
   "execution_count": 226,
   "id": "c2ef8ae6-a054-4a64-9c97-4b373bb8130f",
   "metadata": {},
   "outputs": [
    {
     "data": {
      "text/html": [
       "<style>.container { width:90% !important; }</style>"
      ],
      "text/plain": [
       "<IPython.core.display.HTML object>"
      ]
     },
     "metadata": {},
     "output_type": "display_data"
    }
   ],
   "source": [
    "import pandas as pd\n",
    "import numpy as np\n",
    "import seaborn as sns\n",
    "import matplotlib.pyplot as plt\n",
    "import seaborn as sns\n",
    "\n",
    "from sklearn.model_selection import train_test_split\n",
    "from sklearn.linear_model import LinearRegression\n",
    "from sklearn.metrics import mean_squared_error\n",
    "\n",
    "from sklearn.feature_extraction.text import TfidfVectorizer\n",
    "from sklearn.cluster import KMeans\n",
    "import nltk\n",
    "from wordcloud import WordCloud\n",
    "import re\n",
    "\n",
    "\"Libraries to help with jupyter notebook usage\"\n",
    "# Increases jupyter notebook display width\n",
    "from IPython.display import display, HTML\n",
    "display(HTML(\"<style>.container { width:90% !important; }</style>\"))\n",
    "# Helps display images in notebook\n",
    "from IPython.display import Image"
   ]
  },
  {
   "cell_type": "markdown",
   "id": "290f6d68",
   "metadata": {},
   "source": [
    "### Data Pre-processing\n",
    "- Removing irrelevant audio features\n",
    "- Remove outliers (top and bottom 10%) of each audio feature"
   ]
  },
  {
   "cell_type": "code",
   "execution_count": 224,
   "id": "0f6e21eb-05b6-40bb-9e3d-df89a902201b",
   "metadata": {},
   "outputs": [],
   "source": [
    "import pandas as pd\n",
    "\n",
    "combined_df = []\n",
    "\n",
    "for i in range(10):\n",
    "    file_path = f'../data/processed_data/audio_features/audio_features-{i*1000}-{(i+1)*1000 - 1}.csv'\n",
    "    df = pd.read_csv(file_path)\n",
    "    combined_df.append(df.drop(columns=['key', 'duration_ms', 'instrumentalness']))\n",
    "\n",
    "combined_df = pd.concat(combined_df, ignore_index=True)\n",
    "\n",
    "# Calculate the lower and upper quantiles (25% and 75%) for each audio feature\n",
    "lower_quantile = 0.20\n",
    "upper_quantile = 0.80\n",
    "audio_features = combined_df.columns[1:]\n",
    "quantiles = combined_df[audio_features].quantile([lower_quantile, upper_quantile])\n",
    "\n",
    "# Filter out the outliers based on the quantiles\n",
    "filtered_df = combined_df.copy()\n",
    "for feature in audio_features:\n",
    "    lower_threshold = quantiles.loc[lower_quantile, feature]\n",
    "    upper_threshold = quantiles.loc[upper_quantile, feature]\n",
    "    \n",
    "    filtered_df = filtered_df[(filtered_df[feature] >= lower_threshold) & (filtered_df[feature] <= upper_threshold)]"
   ]
  },
  {
   "cell_type": "markdown",
   "id": "e058bd43",
   "metadata": {},
   "source": [
    "# Data Visualization\n",
    "## Scatter Plot \n",
    "Allows better visualization of how one audio feature tends to affect the rest"
   ]
  },
  {
   "cell_type": "code",
   "execution_count": null,
   "id": "6723e683-ef31-4008-b4f3-7c82866bc85c",
   "metadata": {
    "scrolled": false
   },
   "outputs": [],
   "source": [
    "audio_features = filtered_df.columns[1:]\n",
    "\n",
    "num_rows = 1\n",
    "num_cols = len(audio_features)\n",
    "\n",
    "subplot_size = 5\n",
    "fig_row_size = subplot_size * num_cols\n",
    "fig_col_size = subplot_size\n",
    "\n",
    "audio_features_list = ['danceability', 'energy', 'loudness', 'speechiness', 'acousticness', 'liveness', 'valence', 'tempo']\n",
    "\n",
    "for af in audio_features_list:\n",
    "    fig, axs = plt.subplots(nrows=num_rows, ncols=num_cols, figsize=(fig_row_size, fig_col_size))\n",
    "    \n",
    "    for i, feature in enumerate(audio_features):\n",
    "        axs[i].hexbin(x=filtered_df[af], y=filtered_df[feature], alpha=1, gridsize=25, cmap='terrain')\n",
    "        \n",
    "        axs[i].set_xlabel(af)\n",
    "        axs[i].set_ylabel(feature)\n",
    "        \n",
    "        # Adding linear regression line\n",
    "        slope, intercept = np.polyfit(filtered_df[af], filtered_df[feature], 1)\n",
    "        x_values = [filtered_df[af].min(), filtered_df[af].max()]\n",
    "        y_values = [slope * x + intercept for x in x_values]\n",
    "        axs[i].plot(x_values, y_values, color='red', linewidth=2)\n",
    "    \n",
    "    plt.tight_layout()\n",
    "    plt.savefig(f\"../resources/audio_feature_plots/plot_{af}.png\", format=\"png\", dpi=30)\n",
    "    plt.show()"
   ]
  },
  {
   "cell_type": "markdown",
   "id": "dc62ce33",
   "metadata": {},
   "source": [
    "## Correlation Matrix\n",
    "Overview of the correlation between audio features (note: correlation need not necessarily imply causation)"
   ]
  },
  {
   "cell_type": "code",
   "execution_count": null,
   "id": "8adda922-c455-4d97-8686-bfb2625e884f",
   "metadata": {},
   "outputs": [],
   "source": [
    "import numpy as np\n",
    "import pandas as pd\n",
    "\n",
    "# Assuming you have already calculated the correlation_matrix\n",
    "correlation_matrix = filtered_df[audio_features_list].corr()\n",
    "\n",
    "# Create a mask to hide the lower triangle (including the diagonal)\n",
    "mask = np.tril(np.ones_like(correlation_matrix, dtype=bool))\n",
    "\n",
    "# Plotting the correlation matrix as a heatmap, showing only the values in the upper triangle\n",
    "plt.figure(figsize=(8, 6))\n",
    "sns.heatmap(correlation_matrix, annot=True, cmap='coolwarm', fmt=\".2f\", center=0, mask=~mask)\n",
    "plt.title(\"Correlation Matrix of Audio Features\")\n",
    "plt.savefig(f\"../resources/audio_feature_plots/correlation.png\", format=\"png\", dpi=50)\n",
    "plt.show()"
   ]
  },
  {
   "cell_type": "markdown",
   "id": "67aef2ed",
   "metadata": {},
   "source": [
    "## Genre Clustering\n",
    "Clusters genres obtained from Spotify API using kmeans algorithm"
   ]
  },
  {
   "cell_type": "code",
   "execution_count": 225,
   "id": "5d52e773",
   "metadata": {},
   "outputs": [],
   "source": [
    "from constants import global_genres as definitions\n",
    "\n",
    "# Convert the preprocessed definitions to TF-IDF vectors\n",
    "vectorizer = TfidfVectorizer()\n",
    "tfidf_matrix = vectorizer.fit_transform(definitions)\n",
    "\n",
    "# Use K-means clustering to group similar definitions\n",
    "num_clusters = 15\n",
    "kmeans = KMeans(n_clusters=num_clusters)\n",
    "kmeans.fit(tfidf_matrix)\n",
    "\n",
    "cluster_labels = kmeans.labels_\n",
    "\n",
    "# Concatenate definitions for each cluster without the cluster labels\n",
    "clusters = {}\n",
    "for i, label in enumerate(cluster_labels):\n",
    "    if label not in clusters:\n",
    "        clusters[label] = []\n",
    "    # Remove the [Cluster X] [X] annotations from the definitions\n",
    "    clean_definition = ' '.join([word for word in definitions[i].split() if not word.startswith('[')])\n",
    "    # Remove all numbers from the clean_definition using regex\n",
    "    clean_definition = re.sub(r'\\d+', '', clean_definition).replace(']', '')\n",
    "    clusters[label].append(clean_definition)"
   ]
  },
  {
   "cell_type": "markdown",
   "id": "f3b99928",
   "metadata": {},
   "source": [
    "### Cluster Based Word Cloud\n",
    "Clustering genres based on definitions"
   ]
  },
  {
   "cell_type": "code",
   "execution_count": null,
   "id": "10c0399c",
   "metadata": {
    "scrolled": true
   },
   "outputs": [],
   "source": [
    "# Generate word clouds for each cluster\n",
    "for label, cluster_definitions in clusters.items():\n",
    "    all_definitions = ' '.join(cluster_definitions)\n",
    "    word_list = all_definitions.split()\n",
    "    # covert to set to remove duplicates\n",
    "    unique_words = list(set(word_list))  \n",
    "    unique_definitions = ' '.join(unique_words)\n",
    "\n",
    "    \n",
    "    wordcloud = WordCloud(width=800, height=400, background_color='white').generate(unique_definitions)\n",
    "\n",
    "    plt.figure(figsize=(10, 5))\n",
    "    plt.imshow(wordcloud, interpolation='bilinear')\n",
    "    plt.axis('off')\n",
    "    plt.title(f'Word Cloud for Cluster {label}')\n",
    "    plt.savefig(f\"../resources/wordclouds/cluster_{label}.png\", format=\"png\", dpi=50)\n",
    "    plt.show()"
   ]
  },
  {
   "cell_type": "markdown",
   "id": "835ff85f",
   "metadata": {},
   "source": [
    "## Overall Word Cloud\n",
    "Word cloud based on frequency of words in each genre"
   ]
  },
  {
   "cell_type": "code",
   "execution_count": null,
   "id": "19b65c6f",
   "metadata": {
    "scrolled": false
   },
   "outputs": [],
   "source": [
    "# Generate word clouds for each cluster and get word frequencies\n",
    "word_frequencies = {}\n",
    "for label, cluster_definitions in clusters.items():\n",
    "    all_definitions = ' '.join(cluster_definitions)\n",
    "    word_list = all_definitions.split()\n",
    "    for word in word_list:\n",
    "        if word in word_frequencies:\n",
    "            word_frequencies[word] += 1\n",
    "        else:\n",
    "            word_frequencies[word] = 1\n",
    "\n",
    "# Generate the large word cloud with overlapping clusters\n",
    "wordcloud = WordCloud(width=800, height=400, background_color='white')\n",
    "wordcloud.generate_from_frequencies(word_frequencies)\n",
    "\n",
    "# Display the large word cloud\n",
    "plt.figure(figsize=(10, 5))\n",
    "plt.imshow(wordcloud, interpolation='bilinear')\n",
    "plt.axis('off')\n",
    "plt.title('Overall Word Cloud')\n",
    "plt.savefig(f\"../resources/wordclouds/overall.png\", format=\"png\", dpi=50)\n",
    "plt.show()"
   ]
  },
  {
   "cell_type": "code",
   "execution_count": null,
   "id": "99d1bdc6",
   "metadata": {},
   "outputs": [],
   "source": []
  }
 ],
 "metadata": {
  "kernelspec": {
   "display_name": "Python 3 (ipykernel)",
   "language": "python",
   "name": "python3"
  },
  "language_info": {
   "codemirror_mode": {
    "name": "ipython",
    "version": 3
   },
   "file_extension": ".py",
   "mimetype": "text/x-python",
   "name": "python",
   "nbconvert_exporter": "python",
   "pygments_lexer": "ipython3",
   "version": "3.9.12"
  }
 },
 "nbformat": 4,
 "nbformat_minor": 5
}
